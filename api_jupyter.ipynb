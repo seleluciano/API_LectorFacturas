{
  "cells": [
    {
      "cell_type": "markdown",
      "metadata": {},
      "source": [
        "# 🚀 API de Procesamiento de Imágenes con OCR\n",
        "\n",
        "Este notebook te permite ejecutar tu API de manera interactiva usando Jupyter.\n",
        "\n",
        "## 📋 Características:\n",
        "- Procesamiento de imágenes y PDFs\n",
        "- Extracción de texto con Tesseract\n",
        "- Detección de layout con LayoutParser\n",
        "- API REST con FastAPI\n",
        "- Interfaz interactiva\n"
      ]
    },
    {
      "cell_type": "markdown",
      "metadata": {},
      "source": [
        "## 🔧 Configuración Inicial\n"
      ]
    },
    {
      "cell_type": "code",
      "execution_count": null,
      "metadata": {},
      "outputs": [],
      "source": [
        "# Importar librerías necesarias\n",
        "import os\n",
        "import sys\n",
        "from pathlib import Path\n",
        "import uvicorn\n",
        "import threading\n",
        "import time\n",
        "import requests\n",
        "from IPython.display import display, HTML, clear_output\n",
        "import ipywidgets as widgets\n",
        "from IPython.display import FileLink\n",
        "\n",
        "# Agregar el directorio actual al path\n",
        "sys.path.append(str(Path.cwd()))\n",
        "\n",
        "print(\"✅ Librerías importadas correctamente\")\n"
      ]
    },
    {
      "cell_type": "code",
      "execution_count": null,
      "metadata": {},
      "outputs": [],
      "source": [
        "# Configurar variables de entorno\n",
        "os.environ['HOST'] = '0.0.0.0'\n",
        "os.environ['PORT'] = '8080'  # Puerto diferente para evitar conflictos\n",
        "os.environ['DEBUG'] = 'True'\n",
        "os.environ['UPLOAD_DIR'] = 'temp_uploads'\n",
        "os.environ['MAX_FILE_SIZE'] = '10485760'\n",
        "os.environ['TESSERACT_PATH'] = '/usr/bin/tesseract'\n",
        "os.environ['FAST_MODE'] = 'True'\n",
        "\n",
        "print(\"✅ Variables de entorno configuradas\")\n"
      ]
    },
    {
      "cell_type": "code",
      "execution_count": null,
      "metadata": {},
      "outputs": [],
      "source": [
        "# Importar la aplicación FastAPI\n",
        "from main import app\n",
        "from config import settings\n",
        "\n",
        "print(f\"✅ API cargada correctamente\")\n",
        "print(f\"   Host: {settings.HOST}\")\n",
        "print(f\"   Puerto: {settings.PORT}\")\n",
        "print(f\"   Debug: {settings.DEBUG}\")\n"
      ]
    },
    {
      "cell_type": "markdown",
      "metadata": {},
      "source": [
        "## 🚀 Iniciar el Servidor\n"
      ]
    },
    {
      "cell_type": "code",
      "execution_count": null,
      "metadata": {},
      "outputs": [],
      "source": [
        "# Función para iniciar el servidor en un hilo separado\n",
        "def start_server():\n",
        "    \"\"\"Iniciar el servidor FastAPI en un hilo separado\"\"\"\n",
        "    try:\n",
        "        uvicorn.run(\n",
        "            app,\n",
        "            host=settings.HOST,\n",
        "            port=settings.PORT,\n",
        "            log_level=\"info\",\n",
        "            access_log=True\n",
        "        )\n",
        "    except Exception as e:\n",
        "        print(f\"❌ Error iniciando servidor: {e}\")\n",
        "\n",
        "# Variable global para controlar el servidor\n",
        "server_thread = None\n",
        "server_running = False\n",
        "\n",
        "def start_api_server():\n",
        "    \"\"\"Iniciar la API\"\"\"\n",
        "    global server_thread, server_running\n",
        "    \n",
        "    if server_running:\n",
        "        print(\"⚠️ El servidor ya está ejecutándose\")\n",
        "        return\n",
        "    \n",
        "    print(\"🚀 Iniciando servidor API...\")\n",
        "    server_thread = threading.Thread(target=start_server, daemon=True)\n",
        "    server_thread.start()\n",
        "    server_running = True\n",
        "    \n",
        "    # Esperar un poco para que el servidor se inicie\n",
        "    time.sleep(3)\n",
        "    \n",
        "    # Verificar que el servidor esté funcionando\n",
        "    try:\n",
        "        response = requests.get(f\"http://localhost:{settings.PORT}/health\", timeout=5)\n",
        "        if response.status_code == 200:\n",
        "            print(\"✅ Servidor iniciado correctamente\")\n",
        "            print(f\"🌐 API disponible en: http://localhost:{settings.PORT}\")\n",
        "            print(f\"📚 Documentación: http://localhost:{settings.PORT}/docs\")\n",
        "            print(f\"🔍 Health Check: http://localhost:{settings.PORT}/health\")\n",
        "        else:\n",
        "            print(\"⚠️ Servidor iniciado pero no responde correctamente\")\n",
        "    except Exception as e:\n",
        "        print(f\"⚠️ No se pudo verificar el servidor: {e}\")\n",
        "        print(\"💡 El servidor puede estar iniciándose, intenta de nuevo en unos segundos\")\n",
        "\n",
        "# Botón para iniciar el servidor\n",
        "start_button = widgets.Button(\n",
        "    description=\"🚀 Iniciar API\",\n",
        "    button_style='success',\n",
        "    layout=widgets.Layout(width='200px')\n",
        ")\n",
        "\n",
        "start_button.on_click(lambda b: start_api_server())\n",
        "display(start_button)\n"
      ]
    }
  ],
  "metadata": {
    "language_info": {
      "name": "python"
    }
  },
  "nbformat": 4,
  "nbformat_minor": 2
}
